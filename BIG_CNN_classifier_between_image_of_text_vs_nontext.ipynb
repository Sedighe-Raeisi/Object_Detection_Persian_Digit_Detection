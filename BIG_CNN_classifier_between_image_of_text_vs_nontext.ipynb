{
  "nbformat": 4,
  "nbformat_minor": 0,
  "metadata": {
    "colab": {
      "name": "BIG-CNN-classifier between image of text vs nontext.ipynb",
      "provenance": [],
      "collapsed_sections": [],
      "mount_file_id": "1gw13kHwUstntqEQsow2tffdo2qA56PXK",
      "authorship_tag": "ABX9TyO6Mypq1j6fGo9CSh/s5l5Y",
      "include_colab_link": true
    },
    "kernelspec": {
      "display_name": "Python 3",
      "name": "python3"
    },
    "language_info": {
      "name": "python"
    }
  },
  "cells": [
    {
      "cell_type": "markdown",
      "metadata": {
        "id": "view-in-github",
        "colab_type": "text"
      },
      "source": [
        "<a href=\"https://colab.research.google.com/github/Sedighe-Raeisi/Object_Detection_Persian_Digit_Detection/blob/main/BIG_CNN_classifier_between_image_of_text_vs_nontext.ipynb\" target=\"_parent\"><img src=\"https://colab.research.google.com/assets/colab-badge.svg\" alt=\"Open In Colab\"/></a>"
      ]
    },
    {
      "cell_type": "markdown",
      "metadata": {
        "id": "qF_ZMNtSL6W5"
      },
      "source": [
        "# Classifier:"
      ]
    },
    {
      "cell_type": "code",
      "metadata": {
        "id": "7bUhb7Rckeqv"
      },
      "source": [
        ""
      ],
      "execution_count": null,
      "outputs": []
    },
    {
      "cell_type": "code",
      "metadata": {
        "id": "4XbnDXkvI5Ti"
      },
      "source": [
        "import cv2\n",
        "import matplotlib.pyplot as plt\n",
        "import os\n",
        "import numpy as np\n"
      ],
      "execution_count": null,
      "outputs": []
    },
    {
      "cell_type": "code",
      "metadata": {
        "id": "fROjPamgWt8d"
      },
      "source": [
        "from tensorflow.keras.utils import img_to_array"
      ],
      "execution_count": 71,
      "outputs": []
    },
    {
      "cell_type": "markdown",
      "metadata": {
        "id": "1h8Ut8tAkf3d"
      },
      "source": [
        "\n",
        "##Datas"
      ]
    },
    {
      "cell_type": "code",
      "metadata": {
        "colab": {
          "base_uri": "https://localhost:8080/"
        },
        "id": "PtpYYu-hJWPT",
        "outputId": "a401f0e7-ad3a-488a-d78f-9056d8acc33a"
      },
      "source": [
        "!wget https://github.com/iilabau/AUTNTdataset/tree/master/Training/Non-text"
      ],
      "execution_count": null,
      "outputs": [
        {
          "name": "stdout",
          "output_type": "stream",
          "text": [
            "--2021-10-30 04:45:00--  https://github.com/iilabau/AUTNTdataset/tree/master/Training/Non-text\n",
            "Resolving github.com (github.com)... 140.82.113.3\n",
            "Connecting to github.com (github.com)|140.82.113.3|:443... connected.\n",
            "HTTP request sent, awaiting response... 200 OK\n",
            "Length: unspecified [text/html]\n",
            "Saving to: ‘Non-text’\n",
            "\n",
            "Non-text                [ <=>                ]   1.55M  8.82MB/s    in 0.2s    \n",
            "\n",
            "2021-10-30 04:45:01 (8.82 MB/s) - ‘Non-text’ saved [1623100]\n",
            "\n"
          ]
        }
      ]
    },
    {
      "cell_type": "markdown",
      "metadata": {
        "id": "UHNZ_rzCxmHN"
      },
      "source": [
        "\n",
        "\n",
        "####Link: https://www.kaggle.com/mhdaza/arabic-digits-dataset"
      ]
    },
    {
      "cell_type": "markdown",
      "metadata": {
        "id": "xUSA_n1owsBl"
      },
      "source": [
        "and dataset arabic handwritten dataset:"
      ]
    },
    {
      "cell_type": "code",
      "metadata": {
        "id": "C_r22CjpOwaN"
      },
      "source": [
        "!pip install kaggle"
      ],
      "execution_count": null,
      "outputs": []
    },
    {
      "cell_type": "code",
      "metadata": {
        "id": "uoyq1sIwQfqJ"
      },
      "source": [
        "!mkdir -p /root/.kaggle"
      ],
      "execution_count": null,
      "outputs": []
    },
    {
      "cell_type": "code",
      "metadata": {
        "id": "Itzk-Vb0Qq1W"
      },
      "source": [
        "!cp '/content/drive/MyDrive/MachineLearning/kaggle.json' -r /root/.kaggle"
      ],
      "execution_count": null,
      "outputs": []
    },
    {
      "cell_type": "code",
      "metadata": {
        "id": "YQcD79DJRJ0c"
      },
      "source": [
        "# !cp '/content/kaggle.json' -r /content/drive/MyDrive/MachineLearning"
      ],
      "execution_count": null,
      "outputs": []
    },
    {
      "cell_type": "code",
      "metadata": {
        "id": "AD2h9c9kRP0C"
      },
      "source": [
        "!chmod 600  /root/.kaggle/kaggle.json"
      ],
      "execution_count": null,
      "outputs": []
    },
    {
      "cell_type": "code",
      "metadata": {
        "colab": {
          "base_uri": "https://localhost:8080/"
        },
        "id": "-w5YfQQEhqtD",
        "outputId": "dcc5ba37-7df3-4623-fff4-e3c9de0be492"
      },
      "source": [
        "!kaggle datasets download -d mhdaza/arabic-digits-dataset"
      ],
      "execution_count": null,
      "outputs": [
        {
          "name": "stdout",
          "output_type": "stream",
          "text": [
            "Downloading arabic-digits-dataset.zip to /content\n",
            "\r  0% 0.00/513k [00:00<?, ?B/s]\n",
            "\r100% 513k/513k [00:00<00:00, 76.6MB/s]\n"
          ]
        }
      ]
    },
    {
      "cell_type": "code",
      "metadata": {
        "id": "pD9HJM0zjCHk"
      },
      "source": [
        "!unzip /content/arabic-digits-dataset.zip"
      ],
      "execution_count": null,
      "outputs": []
    },
    {
      "cell_type": "code",
      "metadata": {
        "id": "4y6-bqGKjJ99"
      },
      "source": [
        "!cp /content/Dataset -r '/content/drive/MyDrive/MachineLearning/tx vs Ntx'"
      ],
      "execution_count": null,
      "outputs": []
    },
    {
      "cell_type": "code",
      "metadata": {
        "id": "8RTDjg-RkGw8"
      },
      "source": [
        "# img=cv2.imread('/content/drive/MyDrive/MachineLearning/tx vs Ntx/Dataset/3/3_2.jpg')\n",
        "# plt.imshow(img)"
      ],
      "execution_count": null,
      "outputs": []
    },
    {
      "cell_type": "markdown",
      "metadata": {
        "id": "NpTa1wYpQp2T"
      },
      "source": [
        "\n",
        "\n",
        "###Farsi Digit Dataset\n"
      ]
    },
    {
      "cell_type": "code",
      "metadata": {
        "id": "NWhNGS8tQl2X"
      },
      "source": [
        ""
      ],
      "execution_count": null,
      "outputs": []
    },
    {
      "cell_type": "code",
      "metadata": {
        "id": "POnSEeGUxBHR"
      },
      "source": [
        "import requests, io\n",
        "import numpy as np\n",
        "\n",
        "\n",
        "url = 'https://raw.githubusercontent.com/sraeisi/MachineLearning_Physics/master/Data/Farsi_digits_X.npz'\n",
        "s=requests.get(url, stream=True).content\n",
        "X = np.load(io.BytesIO(s) )['arr_0']\n",
        "\n",
        "url = 'https://raw.githubusercontent.com/sraeisi/MachineLearning_Physics/master/Data/Farsi_digits_Y.npz'\n",
        "s=requests.get(url, stream=True).content\n",
        "Y = np.load(io.BytesIO(s) )['arr_0']\n",
        "\n",
        "from sklearn.utils import shuffle\n",
        "X, Y = shuffle(X,Y, random_state = 0 )"
      ],
      "execution_count": 101,
      "outputs": []
    },
    {
      "cell_type": "code",
      "metadata": {
        "colab": {
          "base_uri": "https://localhost:8080/"
        },
        "id": "BmNa-2W3PylT",
        "outputId": "bc2b135a-9ec5-4d67-d92b-ef6ae3b07225"
      },
      "source": [
        "X.shape"
      ],
      "execution_count": 102,
      "outputs": [
        {
          "output_type": "execute_result",
          "data": {
            "text/plain": [
              "(102352, 32, 32)"
            ]
          },
          "metadata": {},
          "execution_count": 102
        }
      ]
    },
    {
      "cell_type": "code",
      "metadata": {
        "id": "FMfATqRQP_Al"
      },
      "source": [
        "im_h=X.shape[1]\n",
        "im_w=X.shape[2]"
      ],
      "execution_count": 103,
      "outputs": []
    },
    {
      "cell_type": "markdown",
      "metadata": {
        "id": "daa5yMHpkziU"
      },
      "source": [
        "Mine Digit dataset:"
      ]
    },
    {
      "cell_type": "code",
      "metadata": {
        "id": "4KshGMmRkwgh"
      },
      "source": [
        "# copy ntxt dataset1 to ntx folder:\n",
        "dj_img=[]\n",
        "dj_label=[]\n",
        "path='/content/drive/MyDrive/MachineLearning/ghabl/s_croped_png'\n",
        "for img in os.listdir(path):\n",
        "  img_p=os.path.join(path,img)\n",
        "  image=cv2.imread(img_p)\n",
        "  #some preprocessing commands:\n",
        "  res=cv2.resize(image,(im_h,im_w))\n",
        "  res=cv2.cvtColor(res,cv2.COLOR_BGR2GRAY)\n",
        "  res=img_to_array(res)\n",
        "  dj_img.append(res)\n",
        "  label=1\n",
        "  dj_label.append(label)\n",
        "\n",
        "dj_label=np.array(dj_label)\n",
        "dj_img=np.array(dj_img,dtype='float')/255.0"
      ],
      "execution_count": 104,
      "outputs": []
    },
    {
      "cell_type": "code",
      "metadata": {
        "colab": {
          "base_uri": "https://localhost:8080/"
        },
        "id": "AUl63MRHmFSZ",
        "outputId": "8fdd81bf-ce4c-450d-afe6-675fdb212261"
      },
      "source": [
        "X.shape"
      ],
      "execution_count": 105,
      "outputs": [
        {
          "output_type": "execute_result",
          "data": {
            "text/plain": [
              "(102352, 32, 32)"
            ]
          },
          "metadata": {},
          "execution_count": 105
        }
      ]
    },
    {
      "cell_type": "code",
      "metadata": {
        "colab": {
          "base_uri": "https://localhost:8080/"
        },
        "id": "ijK-TZhhmHdO",
        "outputId": "35d1a804-2629-4c06-f04f-ba25c4495957"
      },
      "source": [
        "dj_img.shape"
      ],
      "execution_count": 106,
      "outputs": [
        {
          "output_type": "execute_result",
          "data": {
            "text/plain": [
              "(1600, 32, 32, 1)"
            ]
          },
          "metadata": {},
          "execution_count": 106
        }
      ]
    },
    {
      "cell_type": "code",
      "metadata": {
        "colab": {
          "base_uri": "https://localhost:8080/"
        },
        "id": "SgjuJz4Mm8e3",
        "outputId": "cfe8129f-65bf-45f6-d8d4-4603c1e239d1"
      },
      "source": [
        "X=X.reshape(X.shape[0],X.shape[1],X.shape[2],1)\n",
        "X.shape"
      ],
      "execution_count": 107,
      "outputs": [
        {
          "output_type": "execute_result",
          "data": {
            "text/plain": [
              "(102352, 32, 32, 1)"
            ]
          },
          "metadata": {},
          "execution_count": 107
        }
      ]
    },
    {
      "cell_type": "markdown",
      "metadata": {
        "id": "8jjQlqcUlmWJ"
      },
      "source": [
        "I merge mine data np-array to X,Y np-array "
      ]
    },
    {
      "cell_type": "code",
      "metadata": {
        "id": "wpZXHG2NmBjW"
      },
      "source": [
        "X=np.concatenate((X, dj_img))"
      ],
      "execution_count": 108,
      "outputs": []
    },
    {
      "cell_type": "code",
      "metadata": {
        "id": "yy8F3IaSmode"
      },
      "source": [
        "Y1=np.ones(X.shape[0],dtype='int')"
      ],
      "execution_count": 109,
      "outputs": []
    },
    {
      "cell_type": "code",
      "metadata": {
        "colab": {
          "base_uri": "https://localhost:8080/"
        },
        "id": "QG6alL8rnFHK",
        "outputId": "6136cf64-d5a9-447c-8e09-24a2631a081b"
      },
      "source": [
        "X.shape"
      ],
      "execution_count": 110,
      "outputs": [
        {
          "output_type": "execute_result",
          "data": {
            "text/plain": [
              "(103952, 32, 32, 1)"
            ]
          },
          "metadata": {},
          "execution_count": 110
        }
      ]
    },
    {
      "cell_type": "markdown",
      "metadata": {
        "id": "uxOSC09lwkqI"
      },
      "source": [
        "\n",
        "\n",
        "\n",
        "###we get the dataset of nontext images from here:"
      ]
    },
    {
      "cell_type": "code",
      "metadata": {
        "id": "pnsdW7AQquoU"
      },
      "source": [
        "!wget https://github.com/iilabau/AUTNTdataset/archive/refs/heads/master.zip"
      ],
      "execution_count": null,
      "outputs": []
    },
    {
      "cell_type": "code",
      "metadata": {
        "id": "NTngYLvTKFNE"
      },
      "source": [
        "!unzip /content/master.zip"
      ],
      "execution_count": null,
      "outputs": []
    },
    {
      "cell_type": "code",
      "metadata": {
        "id": "2_bl65EirOJi"
      },
      "source": [
        "!cp /content/AUTNTdataset-master/Training/Non-text -r '/content/drive/MyDrive/MachineLearning/tx vs Ntx'"
      ],
      "execution_count": null,
      "outputs": []
    },
    {
      "cell_type": "code",
      "metadata": {
        "id": "v_lXvTbzRGXv"
      },
      "source": [
        "nTX_list=os.listdir('/content/drive/MyDrive/MachineLearning/tx vs Ntx/Non-text')"
      ],
      "execution_count": null,
      "outputs": []
    },
    {
      "cell_type": "markdown",
      "metadata": {
        "id": "neg1xpV6cyaI"
      },
      "source": [
        "Dataset-2 link:\n",
        "https://github.com/Vishwesh4/Text-vs-Non-Text-Classifier"
      ]
    },
    {
      "cell_type": "code",
      "metadata": {
        "colab": {
          "base_uri": "https://localhost:8080/"
        },
        "id": "7XfS7bLLYgvs",
        "outputId": "cf84c41d-2665-403a-a17e-e119c9cf1eb3"
      },
      "source": [
        "!git clone https://github.com/Vishwesh4/Text-vs-Non-Text-Classifier.git"
      ],
      "execution_count": null,
      "outputs": [
        {
          "name": "stdout",
          "output_type": "stream",
          "text": [
            "Cloning into 'Text-vs-Non-Text-Classifier'...\n",
            "remote: Enumerating objects: 437, done.\u001b[K\n",
            "remote: Total 437 (delta 0), reused 0 (delta 0), pack-reused 437\u001b[K\n",
            "Receiving objects: 100% (437/437), 2.06 MiB | 4.34 MiB/s, done.\n",
            "Resolving deltas: 100% (6/6), done.\n"
          ]
        }
      ]
    },
    {
      "cell_type": "code",
      "metadata": {
        "id": "2rlHyBiDYn1j"
      },
      "source": [
        "!cp /content/Text-vs-Non-Text-Classifier/text_nontext-dataset/nontext -r '/content/drive/MyDrive/MachineLearning/tx vs Ntx'"
      ],
      "execution_count": null,
      "outputs": []
    },
    {
      "cell_type": "code",
      "metadata": {
        "id": "UC6kdQJ-bmJt"
      },
      "source": [
        "import shutil"
      ],
      "execution_count": null,
      "outputs": []
    },
    {
      "cell_type": "code",
      "metadata": {
        "id": "NuMgmH-NZPVb"
      },
      "source": [
        "# copy ntxt dataset1 to ntx folder:\n",
        "for file1 in os.listdir('/content/drive/MyDrive/MachineLearning/tx vs Ntx/nontext'):\n",
        "  src=os.path.join('/content/drive/MyDrive/MachineLearning/tx vs Ntx/nontext',file1)\n",
        "  dst='/content/drive/MyDrive/MachineLearning/tx vs Ntx/ntx'\n",
        "  shutil.copy(src,dst)"
      ],
      "execution_count": 64,
      "outputs": []
    },
    {
      "cell_type": "code",
      "metadata": {
        "colab": {
          "base_uri": "https://localhost:8080/"
        },
        "id": "YPyGRapacTGL",
        "outputId": "35e76023-ea59-4691-e880-b236ec1bd9ee"
      },
      "source": [
        "len(os.listdir(dst))"
      ],
      "execution_count": 65,
      "outputs": [
        {
          "output_type": "execute_result",
          "data": {
            "text/plain": [
              "177"
            ]
          },
          "metadata": {},
          "execution_count": 65
        }
      ]
    },
    {
      "cell_type": "code",
      "metadata": {
        "id": "cx5mV972caHa"
      },
      "source": [
        "# copy ntxt dataset2 to ntx folder:\n",
        "for file1 in os.listdir('/content/drive/MyDrive/MachineLearning/tx vs Ntx/Non-text'):\n",
        "  src=os.path.join('/content/drive/MyDrive/MachineLearning/tx vs Ntx/Non-text',file1)\n",
        "  dst='/content/drive/MyDrive/MachineLearning/tx vs Ntx/ntx'\n",
        "  shutil.copy(src,dst)"
      ],
      "execution_count": 66,
      "outputs": []
    },
    {
      "cell_type": "code",
      "metadata": {
        "colab": {
          "base_uri": "https://localhost:8080/"
        },
        "id": "utX1losEcmy5",
        "outputId": "7d489ca1-85f6-4789-a556-c763429c1628"
      },
      "source": [
        "len(os.listdir(dst))"
      ],
      "execution_count": 67,
      "outputs": [
        {
          "output_type": "execute_result",
          "data": {
            "text/plain": [
              "2482"
            ]
          },
          "metadata": {},
          "execution_count": 67
        }
      ]
    },
    {
      "cell_type": "markdown",
      "metadata": {
        "id": "MbEPmnUMZpIJ"
      },
      "source": [
        "Dataset:\n",
        "http://ebrahimpourlab.ir/download-dataset-sruphn/\n"
      ]
    },
    {
      "cell_type": "code",
      "metadata": {
        "id": "LoQDYENRHoYy"
      },
      "source": [
        "# !pip install unrar\n",
        "# !unrar x /content/dataset-SRU-PHN.rar"
      ],
      "execution_count": null,
      "outputs": []
    },
    {
      "cell_type": "code",
      "metadata": {
        "id": "QZh2kH50KhNp"
      },
      "source": [
        "# !cp /content/data/bmp -r '/content/drive/MyDrive/MachineLearning/tx vs Ntx'"
      ],
      "execution_count": null,
      "outputs": []
    },
    {
      "cell_type": "code",
      "metadata": {
        "id": "Yagi3aClpdct"
      },
      "source": [
        "for file1 in os.listdir('/content/drive/MyDrive/MachineLearning/tx vs Ntx/bmp'):\n",
        "  src=os.path.join('/content/drive/MyDrive/MachineLearning/tx vs Ntx/bmp',file1)\n",
        "  dst='/content/drive/MyDrive/MachineLearning/tx vs Ntx/ntx'\n",
        "  shutil.copy(src,dst)"
      ],
      "execution_count": 69,
      "outputs": []
    },
    {
      "cell_type": "code",
      "metadata": {
        "colab": {
          "base_uri": "https://localhost:8080/"
        },
        "id": "rMdPiSIPOQKj",
        "outputId": "890a61e7-6d37-4bb1-bac4-a7f7698c96b3"
      },
      "source": [
        "len(os.listdir(dst))"
      ],
      "execution_count": 70,
      "outputs": [
        {
          "output_type": "execute_result",
          "data": {
            "text/plain": [
              "25007"
            ]
          },
          "metadata": {},
          "execution_count": 70
        }
      ]
    },
    {
      "cell_type": "markdown",
      "metadata": {
        "id": "96UoqbglXN6o"
      },
      "source": [
        "Dataset Shotor:https://www.kaggle.com/amir137825/persianocrdataset/version/1?select=Shotor_Words.csv"
      ]
    },
    {
      "cell_type": "code",
      "metadata": {
        "colab": {
          "base_uri": "https://localhost:8080/"
        },
        "id": "_IYOOGY1DLyh",
        "outputId": "58366b7c-1d7b-4b96-955a-a4112c3f3887"
      },
      "source": [
        "!kaggle datasets download -d amir137825/persianocrdataset"
      ],
      "execution_count": 91,
      "outputs": [
        {
          "output_type": "stream",
          "name": "stdout",
          "text": [
            "Downloading persianocrdataset.zip to /content\n",
            " 78% 68.0M/87.4M [00:00<00:00, 60.4MB/s]\n",
            "100% 87.4M/87.4M [00:01<00:00, 90.1MB/s]\n"
          ]
        }
      ]
    },
    {
      "cell_type": "code",
      "metadata": {
        "id": "X8XyDxDeCe5q"
      },
      "source": [
        "!unzip /content/persianocrdataset.zip"
      ],
      "execution_count": null,
      "outputs": []
    },
    {
      "cell_type": "code",
      "metadata": {
        "colab": {
          "base_uri": "https://localhost:8080/"
        },
        "id": "f5l7pZ6MDz9S",
        "outputId": "a17f50b7-5b1c-43ff-ed18-c3ad85997087"
      },
      "source": [
        "len(os.listdir('/content/Shotor_Images/Shotor_Images'))"
      ],
      "execution_count": 94,
      "outputs": [
        {
          "output_type": "execute_result",
          "data": {
            "text/plain": [
              "120000"
            ]
          },
          "metadata": {},
          "execution_count": 94
        }
      ]
    },
    {
      "cell_type": "code",
      "metadata": {
        "id": "Qaa5a4dMDmPz"
      },
      "source": [
        "!cp /content/Shotor_Images/Shotor_Images -r '/content/drive/MyDrive/MachineLearning/tx vs Ntx'"
      ],
      "execution_count": 95,
      "outputs": []
    },
    {
      "cell_type": "code",
      "metadata": {
        "id": "f06i_QhXEJgi"
      },
      "source": [
        "for file1 in os.listdir('/content/drive/MyDrive/MachineLearning/tx vs Ntx/Shotor_Images'):\n",
        "  src=os.path.join('/content/drive/MyDrive/MachineLearning/tx vs Ntx/Shotor_Images',file1)\n",
        "  dst='/content/drive/MyDrive/MachineLearning/tx vs Ntx/ntx'\n",
        "  shutil.copy(src,dst)"
      ],
      "execution_count": 96,
      "outputs": []
    },
    {
      "cell_type": "code",
      "metadata": {
        "colab": {
          "base_uri": "https://localhost:8080/"
        },
        "id": "-whcmZFtEXav",
        "outputId": "4df40f00-f862-4151-d998-7e8cb0cf7cc5"
      },
      "source": [
        "len(os.listdir(dst))"
      ],
      "execution_count": 97,
      "outputs": [
        {
          "output_type": "execute_result",
          "data": {
            "text/plain": [
              "145007"
            ]
          },
          "metadata": {},
          "execution_count": 97
        }
      ]
    },
    {
      "cell_type": "code",
      "metadata": {
        "colab": {
          "base_uri": "https://localhost:8080/",
          "height": 35
        },
        "id": "IaKiCX33a_iS",
        "outputId": "7d9b85ee-f499-488c-eb6f-533dfa9ae43a"
      },
      "source": [
        "src"
      ],
      "execution_count": 98,
      "outputs": [
        {
          "output_type": "execute_result",
          "data": {
            "application/vnd.google.colaboratory.intrinsic+json": {
              "type": "string"
            },
            "text/plain": [
              "'/content/drive/MyDrive/MachineLearning/tx vs Ntx/Shotor_Images/99999.tif'"
            ]
          },
          "metadata": {},
          "execution_count": 98
        }
      ]
    },
    {
      "cell_type": "code",
      "metadata": {
        "colab": {
          "base_uri": "https://localhost:8080/",
          "height": 235
        },
        "id": "awVtCG96a0CK",
        "outputId": "b737f1eb-9c9e-4de6-9834-73f5c7986148"
      },
      "source": [
        "plt.imshow(cv2.imread(src))"
      ],
      "execution_count": 99,
      "outputs": [
        {
          "output_type": "execute_result",
          "data": {
            "text/plain": [
              "<matplotlib.image.AxesImage at 0x7ff7ff51e7d0>"
            ]
          },
          "metadata": {},
          "execution_count": 99
        },
        {
          "output_type": "display_data",
          "data": {
            "image/png": "[encoded data removed]",
            "text/plain": [
              "<Figure size 432x288 with 1 Axes>"
            ]
          },
          "metadata": {
            "needs_background": "light"
          }
        }
      ]
    },
    {
      "cell_type": "code",
      "metadata": {
        "id": "JnQhOJf5RT7b"
      },
      "source": [
        "path='/content/drive/MyDrive/MachineLearning/tx vs Ntx/ntx'\n",
        "ntx_img=[]\n",
        "labels=[]\n",
        "for img in os.listdir(path):\n",
        "  img_p=os.path.join(path,img)\n",
        "  image=cv2.imread(img_p)\n",
        "  #some preprocessing commands:\n",
        "  res=cv2.resize(image,(im_h,im_w))\n",
        "  res=cv2.cvtColor(res,cv2.COLOR_BGR2GRAY)\n",
        "  res=img_to_array(res)\n",
        "  ntx_img.append(res)\n",
        "  label=0\n",
        "  labels.append(label)\n",
        "\n",
        "labels=np.array(labels)\n",
        "ntx_img=np.array(ntx_img,dtype='float')/255.0"
      ],
      "execution_count": 100,
      "outputs": []
    },
    {
      "cell_type": "markdown",
      "metadata": {
        "id": "1aFnEElSV4xU"
      },
      "source": [
        "\n",
        "\n",
        "###Merging txt and ntxt datasets:"
      ]
    },
    {
      "cell_type": "code",
      "metadata": {
        "id": "3qkcfGBZUBs-"
      },
      "source": [
        "# now I merge digit numpy-array to nontxt numpy-array:"
      ],
      "execution_count": null,
      "outputs": []
    },
    {
      "cell_type": "markdown",
      "metadata": {
        "id": "2yruIxI4cV-A"
      },
      "source": [
        "Dataset: https://www.kaggle.com/amir137825/persianocrdataset"
      ]
    },
    {
      "cell_type": "code",
      "metadata": {
        "id": "weVntZEacZ5C"
      },
      "source": [
        "kaggle datasets download -d amir137825/persianocrdataset"
      ],
      "execution_count": null,
      "outputs": []
    },
    {
      "cell_type": "code",
      "metadata": {
        "colab": {
          "base_uri": "https://localhost:8080/"
        },
        "id": "91RvaWPWihFd",
        "outputId": "559b95d5-3fb1-4947-a3d5-2818753823ff"
      },
      "source": [
        "# Y.shape"
      ],
      "execution_count": null,
      "outputs": [
        {
          "data": {
            "text/plain": [
              "(102352,)"
            ]
          },
          "execution_count": 15,
          "metadata": {},
          "output_type": "execute_result"
        }
      ]
    },
    {
      "cell_type": "code",
      "metadata": {
        "id": "nSP1XUhGilt1"
      },
      "source": [
        "# Y1=np.ones(Y.shape[0],dtype='int')"
      ],
      "execution_count": null,
      "outputs": []
    },
    {
      "cell_type": "code",
      "metadata": {
        "id": "4aGxX48WioYx"
      },
      "source": [
        "# Y1"
      ],
      "execution_count": null,
      "outputs": []
    },
    {
      "cell_type": "code",
      "metadata": {
        "colab": {
          "base_uri": "https://localhost:8080/"
        },
        "id": "cswfNlP2jPI4",
        "outputId": "53c79c83-5ee2-46dc-defa-e8f2d5064629"
      },
      "source": [
        "X.shape"
      ],
      "execution_count": 111,
      "outputs": [
        {
          "output_type": "execute_result",
          "data": {
            "text/plain": [
              "(103952, 32, 32, 1)"
            ]
          },
          "metadata": {},
          "execution_count": 111
        }
      ]
    },
    {
      "cell_type": "code",
      "metadata": {
        "id": "ApHj8Rf-jVdg"
      },
      "source": [
        "# X=X.reshape(X.shape[0],X.shape[1],X.shape[2],1)"
      ],
      "execution_count": null,
      "outputs": []
    },
    {
      "cell_type": "code",
      "metadata": {
        "colab": {
          "base_uri": "https://localhost:8080/"
        },
        "id": "dhUoLUEXjrbp",
        "outputId": "f52219b3-8a20-41c1-e7cb-aec04330afc5"
      },
      "source": [
        "# X.shape"
      ],
      "execution_count": null,
      "outputs": [
        {
          "data": {
            "text/plain": [
              "(102352, 32, 32, 1)"
            ]
          },
          "execution_count": 26,
          "metadata": {},
          "output_type": "execute_result"
        }
      ]
    },
    {
      "cell_type": "code",
      "metadata": {
        "colab": {
          "base_uri": "https://localhost:8080/"
        },
        "id": "3t6jyOBwjRW4",
        "outputId": "ed31145b-6d99-462c-81c6-f162d00fd7a0"
      },
      "source": [
        "ntx_img.shape"
      ],
      "execution_count": 112,
      "outputs": [
        {
          "output_type": "execute_result",
          "data": {
            "text/plain": [
              "(145007, 32, 32, 1)"
            ]
          },
          "metadata": {},
          "execution_count": 112
        }
      ]
    },
    {
      "cell_type": "code",
      "metadata": {
        "id": "27BXq5hLVIsl"
      },
      "source": [
        "x=np.concatenate((X, ntx_img))"
      ],
      "execution_count": 113,
      "outputs": []
    },
    {
      "cell_type": "code",
      "metadata": {
        "colab": {
          "base_uri": "https://localhost:8080/"
        },
        "id": "Bv50yWJ8jJr_",
        "outputId": "bce29565-aeb6-4fe9-aafc-5a8b1105ffdf"
      },
      "source": [
        "x.shape"
      ],
      "execution_count": 114,
      "outputs": [
        {
          "output_type": "execute_result",
          "data": {
            "text/plain": [
              "(248959, 32, 32, 1)"
            ]
          },
          "metadata": {},
          "execution_count": 114
        }
      ]
    },
    {
      "cell_type": "code",
      "metadata": {
        "colab": {
          "base_uri": "https://localhost:8080/"
        },
        "id": "jdYiCuxVj1_7",
        "outputId": "708e3e4e-cd08-4bd2-a26a-f70af5ee6b26"
      },
      "source": [
        "y=np.concatenate((Y1,labels))\n",
        "y.shape"
      ],
      "execution_count": 115,
      "outputs": [
        {
          "output_type": "execute_result",
          "data": {
            "text/plain": [
              "(248959,)"
            ]
          },
          "metadata": {},
          "execution_count": 115
        }
      ]
    },
    {
      "cell_type": "code",
      "metadata": {
        "id": "H_x9P-t7j951"
      },
      "source": [
        "from sklearn.utils import shuffle\n",
        "x, y = shuffle(x,y, random_state = 0 )"
      ],
      "execution_count": 116,
      "outputs": []
    },
    {
      "cell_type": "markdown",
      "metadata": {
        "id": "zpbAVIAOkVzx"
      },
      "source": [
        "\n",
        "##Binery classsifier Model:"
      ]
    },
    {
      "cell_type": "code",
      "metadata": {
        "id": "0dEb6u2rkTJV"
      },
      "source": [
        ""
      ],
      "execution_count": null,
      "outputs": []
    },
    {
      "cell_type": "markdown",
      "metadata": {
        "id": "M3OInuH9GSKS"
      },
      "source": [
        "\n",
        "###Prepairing the train and test split"
      ]
    },
    {
      "cell_type": "code",
      "metadata": {
        "id": "twqDZjmFr59w"
      },
      "source": [
        "from sklearn.model_selection import train_test_split"
      ],
      "execution_count": 117,
      "outputs": []
    },
    {
      "cell_type": "code",
      "metadata": {
        "id": "UjxoMCqA3S3k"
      },
      "source": [
        "x_train, x_test, y_train, y_test=train_test_split(x, y, test_size=.2, random_state=42, shuffle=True)"
      ],
      "execution_count": 118,
      "outputs": []
    },
    {
      "cell_type": "code",
      "metadata": {
        "id": "OxWHni6zk-bo"
      },
      "source": [
        ""
      ],
      "execution_count": null,
      "outputs": []
    },
    {
      "cell_type": "markdown",
      "metadata": {
        "id": "6dlYZ-GiGXSL"
      },
      "source": [
        "\n",
        "\n",
        "###Prepairing the model"
      ]
    },
    {
      "cell_type": "code",
      "metadata": {
        "id": "4dJh0sr74InY"
      },
      "source": [
        "import tensorflow as tf\n",
        "from keras.models import Sequential \n",
        "from keras.layers import Dense, Conv2D, MaxPooling2D, Flatten "
      ],
      "execution_count": 119,
      "outputs": []
    },
    {
      "cell_type": "code",
      "metadata": {
        "colab": {
          "base_uri": "https://localhost:8080/"
        },
        "id": "6_ijISreTbRt",
        "outputId": "d5fa0b0a-193d-495c-ab19-f612281c2490"
      },
      "source": [
        "x.shape"
      ],
      "execution_count": 120,
      "outputs": [
        {
          "output_type": "execute_result",
          "data": {
            "text/plain": [
              "(248959, 32, 32, 1)"
            ]
          },
          "metadata": {},
          "execution_count": 120
        }
      ]
    },
    {
      "cell_type": "code",
      "metadata": {
        "id": "i03XSy3P7UYr"
      },
      "source": [
        "model=Sequential()\n",
        "\n",
        "model.add(Conv2D(filters=32,kernel_size=(3,3),activation='relu',input_shape=(x.shape[1],x.shape[2],1)))\n",
        "model.add(MaxPooling2D(pool_size=(2,2)))\n",
        "model.add(Conv2D(filters=64,kernel_size=(3,3),activation='relu'))\n",
        "model.add(MaxPooling2D(pool_size=(2,2)))\n",
        "model.add(Conv2D(filters=64,kernel_size=(3,3),activation='relu'))\n",
        "\n",
        "model.add(Flatten())\n",
        "model.add(Dense(units=64,activation='relu'))\n",
        "model.add(Dense(units=1,activation='sigmoid'))"
      ],
      "execution_count": 121,
      "outputs": []
    },
    {
      "cell_type": "code",
      "metadata": {
        "colab": {
          "base_uri": "https://localhost:8080/"
        },
        "id": "csqGAE117k2V",
        "outputId": "4c2d81da-3375-42ad-beee-43023f215af1"
      },
      "source": [
        "model.summary()"
      ],
      "execution_count": 122,
      "outputs": [
        {
          "output_type": "stream",
          "name": "stdout",
          "text": [
            "Model: \"sequential\"\n",
            "_________________________________________________________________\n",
            "Layer (type)                 Output Shape              Param #   \n",
            "=================================================================\n",
            "conv2d (Conv2D)              (None, 30, 30, 32)        320       \n",
            "_________________________________________________________________\n",
            "max_pooling2d (MaxPooling2D) (None, 15, 15, 32)        0         \n",
            "_________________________________________________________________\n",
            "conv2d_1 (Conv2D)            (None, 13, 13, 64)        18496     \n",
            "_________________________________________________________________\n",
            "max_pooling2d_1 (MaxPooling2 (None, 6, 6, 64)          0         \n",
            "_________________________________________________________________\n",
            "conv2d_2 (Conv2D)            (None, 4, 4, 64)          36928     \n",
            "_________________________________________________________________\n",
            "flatten (Flatten)            (None, 1024)              0         \n",
            "_________________________________________________________________\n",
            "dense (Dense)                (None, 64)                65600     \n",
            "_________________________________________________________________\n",
            "dense_1 (Dense)              (None, 1)                 65        \n",
            "=================================================================\n",
            "Total params: 121,409\n",
            "Trainable params: 121,409\n",
            "Non-trainable params: 0\n",
            "_________________________________________________________________\n"
          ]
        }
      ]
    },
    {
      "cell_type": "code",
      "metadata": {
        "id": "OXSsSTvW7nQ0"
      },
      "source": [
        "model.compile(optimizer='adam',loss='binary_crossentropy',metrics='accuracy')"
      ],
      "execution_count": 123,
      "outputs": []
    },
    {
      "cell_type": "code",
      "metadata": {
        "colab": {
          "base_uri": "https://localhost:8080/"
        },
        "id": "imdO6NAr7ubL",
        "outputId": "da9e4f88-326c-4618-8971-197425c05270"
      },
      "source": [
        "model_hist=model.fit(x_train,y_train,epochs=3,validation_split=.2)"
      ],
      "execution_count": 124,
      "outputs": [
        {
          "output_type": "stream",
          "name": "stdout",
          "text": [
            "Epoch 1/3\n",
            "4980/4980 [==============================] - 213s 42ms/step - loss: 0.0072 - accuracy: 0.9979 - val_loss: 0.0035 - val_accuracy: 0.9988\n",
            "Epoch 2/3\n",
            "4980/4980 [==============================] - 215s 43ms/step - loss: 0.0028 - accuracy: 0.9991 - val_loss: 0.0069 - val_accuracy: 0.9974\n",
            "Epoch 3/3\n",
            "4980/4980 [==============================] - 213s 43ms/step - loss: 0.0024 - accuracy: 0.9992 - val_loss: 0.0019 - val_accuracy: 0.9994\n"
          ]
        }
      ]
    },
    {
      "cell_type": "code",
      "metadata": {
        "id": "fs8-jc8I-byx"
      },
      "source": [
        "yp=model.predict(x_test)\n"
      ],
      "execution_count": 125,
      "outputs": []
    },
    {
      "cell_type": "code",
      "metadata": {
        "id": "AKHSkHS_pc11"
      },
      "source": [
        "yp=yp.reshape(-1)"
      ],
      "execution_count": 126,
      "outputs": []
    },
    {
      "cell_type": "code",
      "metadata": {
        "id": "n-YhYjIYptla"
      },
      "source": [
        "yp=np.array(yp,dtype='int')"
      ],
      "execution_count": 127,
      "outputs": []
    },
    {
      "cell_type": "code",
      "metadata": {
        "id": "Gyti0mjHmp1p"
      },
      "source": [
        "from sklearn.metrics import accuracy_score"
      ],
      "execution_count": 128,
      "outputs": []
    },
    {
      "cell_type": "code",
      "metadata": {
        "colab": {
          "base_uri": "https://localhost:8080/"
        },
        "id": "dUYnw-HwmypN",
        "outputId": "5f7420ab-c8de-4624-d6a8-eda68db509f1"
      },
      "source": [
        "accuracy_score(yp,y_test)"
      ],
      "execution_count": 129,
      "outputs": [
        {
          "output_type": "execute_result",
          "data": {
            "text/plain": [
              "0.9920268316195373"
            ]
          },
          "metadata": {},
          "execution_count": 129
        }
      ]
    },
    {
      "cell_type": "code",
      "metadata": {
        "id": "iVALgGDvnzPp"
      },
      "source": [
        "from sklearn.metrics import confusion_matrix\n",
        "cm=confusion_matrix(y_test,yp,normalize='true')"
      ],
      "execution_count": 130,
      "outputs": []
    },
    {
      "cell_type": "code",
      "metadata": {
        "colab": {
          "base_uri": "https://localhost:8080/",
          "height": 395
        },
        "id": "CdT54ysin-BW",
        "outputId": "d05acd52-a3fb-47c1-e879-849c982efe36"
      },
      "source": [
        "import seaborn as sn\n",
        "import matplotlib.pyplot as plt\n",
        "plt.figure(figsize=[6,6])\n",
        "sn.heatmap(cm, annot=True, fmt='.2f', cmap='YlGnBu')"
      ],
      "execution_count": 131,
      "outputs": [
        {
          "output_type": "execute_result",
          "data": {
            "text/plain": [
              "<matplotlib.axes._subplots.AxesSubplot at 0x7ff7fd245790>"
            ]
          },
          "metadata": {},
          "execution_count": 131
        },
        {
          "output_type": "display_data",
          "data": {
            "image/png": "[encoded data removed]",
            "text/plain": [
              "<Figure size 432x432 with 2 Axes>"
            ]
          },
          "metadata": {
            "needs_background": "light"
          }
        }
      ]
    },
    {
      "cell_type": "code",
      "metadata": {
        "id": "_oGSRYEOoKf-"
      },
      "source": [
        ""
      ],
      "execution_count": null,
      "outputs": []
    },
    {
      "cell_type": "markdown",
      "metadata": {
        "id": "l63QSBuPGe9E"
      },
      "source": [
        "\n",
        "\n",
        "###Accuracy and loss visualization "
      ]
    },
    {
      "cell_type": "code",
      "metadata": {
        "colab": {
          "base_uri": "https://localhost:8080/",
          "height": 279
        },
        "id": "csz1c0DvABgX",
        "outputId": "aff60495-501e-4605-da6f-66e01ed999c5"
      },
      "source": [
        "plt.plot(model_hist.history['accuracy'],label='train acc')\n",
        "plt.plot(model_hist.history['val_accuracy'],label='val acc')\n",
        "plt.legend(loc='lower right')\n",
        "plt.xlabel('epochs')\n",
        "plt.ylabel('accuracy')\n",
        "plt.show();"
      ],
      "execution_count": 132,
      "outputs": [
        {
          "output_type": "display_data",
          "data": {
            "image/png": "[encoded data removed]",
            "text/plain": [
              "<Figure size 432x288 with 1 Axes>"
            ]
          },
          "metadata": {
            "needs_background": "light"
          }
        }
      ]
    },
    {
      "cell_type": "code",
      "metadata": {
        "colab": {
          "base_uri": "https://localhost:8080/",
          "height": 279
        },
        "id": "-c2ck47uBcqB",
        "outputId": "b4fbca0d-42bb-4e68-b47f-27962d7ef97e"
      },
      "source": [
        "plt.plot(model_hist.history['loss'],label='train loss')\n",
        "plt.plot(model_hist.history['val_loss'],label='val loss')\n",
        "plt.legend(loc='upper right')\n",
        "plt.xlabel('epochs')\n",
        "plt.ylabel('loss')\n",
        "plt.show();"
      ],
      "execution_count": 133,
      "outputs": [
        {
          "output_type": "display_data",
          "data": {
            "image/png": "[encoded data removed]",
            "text/plain": [
              "<Figure size 432x288 with 1 Axes>"
            ]
          },
          "metadata": {
            "needs_background": "light"
          }
        }
      ]
    },
    {
      "cell_type": "markdown",
      "metadata": {
        "id": "1rFkIoAPsAss"
      },
      "source": [
        "\n",
        "\n",
        "###Save and Load Model:"
      ]
    },
    {
      "cell_type": "code",
      "metadata": {
        "colab": {
          "base_uri": "https://localhost:8080/"
        },
        "id": "UW8AThRiB-Bi",
        "outputId": "9f4e3f14-9eb5-4d03-e04b-1a92f38e0989"
      },
      "source": [
        "model_path='/content/drive/MyDrive/MachineLearning/tx_vs_ntx_clf_big'\n",
        "model.save(model_path)"
      ],
      "execution_count": 134,
      "outputs": [
        {
          "output_type": "stream",
          "name": "stdout",
          "text": [
            "INFO:tensorflow:Assets written to: /content/drive/MyDrive/MachineLearning/tx_vs_ntx_clf_big/assets\n"
          ]
        }
      ]
    },
    {
      "cell_type": "code",
      "metadata": {
        "id": "1_hX2TZpCicE"
      },
      "source": [
        "from keras.models import load_model"
      ],
      "execution_count": 135,
      "outputs": []
    },
    {
      "cell_type": "code",
      "metadata": {
        "id": "pv0p8KjIrMwl"
      },
      "source": [
        "model_path='/content/drive/MyDrive/MachineLearning/tx_vs_ntx_clf'\n",
        "model=load_model(model_path)"
      ],
      "execution_count": null,
      "outputs": []
    },
    {
      "cell_type": "markdown",
      "metadata": {
        "id": "beOQnfMGqg2e"
      },
      "source": [
        "##now we test classifier for extracted objects from image: "
      ]
    },
    {
      "cell_type": "code",
      "metadata": {
        "id": "tqCzT3ersPLA"
      },
      "source": [
        "im_h=32\n",
        "im_w=32"
      ],
      "execution_count": 136,
      "outputs": []
    },
    {
      "cell_type": "code",
      "metadata": {
        "id": "al37RgnzqpQU"
      },
      "source": [
        "slice_path='/content/drive/MyDrive/MachineLearning/ghabl/slice'\n",
        "\n",
        "ntx_img=[]\n",
        "for img in os.listdir(slice_path):\n",
        "  img_p=os.path.join(slice_path,img)\n",
        "  image=cv2.imread(img_p)\n",
        "  #some preprocessing commands:\n",
        "  image = cv2.fastNlMeansDenoisingColored(image, None, 10, 10, 7, 15)\n",
        "  image=cv2.cvtColor(image,cv2.COLOR_BGR2GRAY)\n",
        "  image = cv2.adaptiveThreshold(image,255,cv2.ADAPTIVE_THRESH_GAUSSIAN_C, cv2.THRESH_BINARY_INV,87,9)\n",
        "  image=cv2.resize(image,(im_h,im_w), interpolation=cv2.INTER_AREA)\n",
        "  \n",
        "  image=img_to_array(image)\n",
        "  ntx_img.append(image)\n",
        "  \n",
        "\n",
        "labels=np.array(labels)\n",
        "ntx_img=np.array(ntx_img,dtype='float')/255.0"
      ],
      "execution_count": 137,
      "outputs": []
    },
    {
      "cell_type": "code",
      "metadata": {
        "colab": {
          "base_uri": "https://localhost:8080/"
        },
        "id": "6uZ50a9Lso_e",
        "outputId": "4170e5d0-c5d0-4ab2-aeec-f282962ccd5d"
      },
      "source": [
        "ntx_img.shape"
      ],
      "execution_count": 138,
      "outputs": [
        {
          "output_type": "execute_result",
          "data": {
            "text/plain": [
              "(13, 32, 32, 1)"
            ]
          },
          "metadata": {},
          "execution_count": 138
        }
      ]
    },
    {
      "cell_type": "code",
      "metadata": {
        "id": "_j7SI7G3vAfg"
      },
      "source": [
        "labels=model.predict(ntx_img)"
      ],
      "execution_count": 139,
      "outputs": []
    },
    {
      "cell_type": "code",
      "metadata": {
        "id": "o3Gv-4c4vXW0"
      },
      "source": [
        "labels=labels.reshape(-1)\n",
        "labels=np.array(labels)"
      ],
      "execution_count": 140,
      "outputs": []
    },
    {
      "cell_type": "code",
      "metadata": {
        "colab": {
          "base_uri": "https://localhost:8080/"
        },
        "id": "LJTZ5Ox1vZJX",
        "outputId": "d6067d43-a329-4d71-adf5-d403158f78e6"
      },
      "source": [
        "labels"
      ],
      "execution_count": 141,
      "outputs": [
        {
          "output_type": "execute_result",
          "data": {
            "text/plain": [
              "array([1.0000000e+00, 9.9998260e-01, 1.0000000e+00, 9.9999923e-01,\n",
              "       1.0000000e+00, 1.0000000e+00, 4.8951087e-25, 1.0000000e+00,\n",
              "       9.9999928e-01, 1.0000000e+00, 1.0000000e+00, 9.9999189e-01,\n",
              "       1.0000000e+00], dtype=float32)"
            ]
          },
          "metadata": {},
          "execution_count": 141
        }
      ]
    },
    {
      "cell_type": "code",
      "metadata": {
        "id": "HBRI2XUc-gp8"
      },
      "source": [
        "dig_l=np.where(labels > .5, 1,0)"
      ],
      "execution_count": 142,
      "outputs": []
    },
    {
      "cell_type": "code",
      "metadata": {
        "id": "BnKrxX6Q-x73"
      },
      "source": [
        "i=0\n",
        "dig_img=[]\n",
        "slice_path='/content/drive/MyDrive/MachineLearning/ghabl/slice'\n",
        "for img in os.listdir(slice_path):\n",
        "  img_p=os.path.join(slice_path,img)\n",
        "  image=cv2.imread(img_p)\n",
        "  # plt.figure(i)\n",
        "  # imgplot = plt.imshow(image)\n",
        "  # plt.show()\n",
        "  # print(dig_l[i])\n",
        "  if dig_l[i]==1:dig_img.append(image)\n",
        "  i += 1"
      ],
      "execution_count": 143,
      "outputs": []
    },
    {
      "cell_type": "markdown",
      "metadata": {
        "id": "5yjForLCaU1P"
      },
      "source": [
        "#Image Test:"
      ]
    },
    {
      "cell_type": "markdown",
      "metadata": {
        "id": "1l9BbjjkaYCo"
      },
      "source": [
        "\n",
        "##Preprocessing:"
      ]
    },
    {
      "cell_type": "code",
      "metadata": {
        "id": "xEQbwuH0aYCo"
      },
      "source": [
        "import matplotlib.pyplot as plt\n",
        "# import matplotlib.patches as mpatches\n",
        "\n",
        "from skimage.filters import threshold_otsu\n",
        "from skimage.segmentation import clear_border\n",
        "from skimage.measure import label, regionprops\n",
        "from skimage.morphology import closing, square\n",
        "from skimage.color import label2rgb"
      ],
      "execution_count": 159,
      "outputs": []
    },
    {
      "cell_type": "code",
      "metadata": {
        "colab": {
          "base_uri": "https://localhost:8080/",
          "height": 269
        },
        "id": "yX4udt-OaYCp",
        "outputId": "09f747ce-d69f-413c-ec36-d0e66d853935"
      },
      "source": [
        "input_image_path='/content/12.jpg'\n",
        "image=cv2.imread(input_image_path)\n",
        "plt.imshow(image);"
      ],
      "execution_count": 160,
      "outputs": [
        {
          "output_type": "display_data",
          "data": {
            "image/png": "[encoded data removed]",
            "text/plain": [
              "<Figure size 432x288 with 1 Axes>"
            ]
          },
          "metadata": {
            "needs_background": "light"
          }
        }
      ]
    },
    {
      "cell_type": "code",
      "metadata": {
        "colab": {
          "base_uri": "https://localhost:8080/",
          "height": 286
        },
        "id": "W90-oU2EaYCp",
        "outputId": "ed4caabc-48e9-4a51-84e4-89e8153b58cf"
      },
      "source": [
        "dst = cv2.fastNlMeansDenoisingColored(image, None, 10, 10, 7, 15)\n",
        "gray = cv2.cvtColor(dst, cv2.COLOR_BGR2GRAY)\n",
        "\n",
        "blur = cv2.GaussianBlur(gray, (7,7), 1)\n",
        "\n",
        "thresh = cv2.adaptiveThreshold(blur,255,cv2.ADAPTIVE_THRESH_GAUSSIAN_C, cv2.THRESH_BINARY_INV,87,9)\n",
        "\n",
        "plt.imshow(thresh)"
      ],
      "execution_count": 161,
      "outputs": [
        {
          "output_type": "execute_result",
          "data": {
            "text/plain": [
              "<matplotlib.image.AxesImage at 0x7ff7ec2a5a10>"
            ]
          },
          "metadata": {},
          "execution_count": 161
        },
        {
          "output_type": "display_data",
          "data": {
            "image/png": "[encoded data removed]",
            "text/plain": [
              "<Figure size 432x288 with 1 Axes>"
            ]
          },
          "metadata": {
            "needs_background": "light"
          }
        }
      ]
    },
    {
      "cell_type": "code",
      "metadata": {
        "colab": {
          "base_uri": "https://localhost:8080/",
          "height": 286
        },
        "id": "yfgv5YpgaYCq",
        "outputId": "3947c726-b352-42c8-e796-bc5437e718b6"
      },
      "source": [
        "from skimage.filters import sobel\n",
        "el=sobel(thresh)\n",
        "plt.imshow(el,cmap=plt.cm.gray)"
      ],
      "execution_count": 162,
      "outputs": [
        {
          "output_type": "execute_result",
          "data": {
            "text/plain": [
              "<matplotlib.image.AxesImage at 0x7ff7ec216ed0>"
            ]
          },
          "metadata": {},
          "execution_count": 162
        },
        {
          "output_type": "display_data",
          "data": {
            "image/png": "[encoded data removed]",
            "text/plain": [
              "<Figure size 432x288 with 1 Axes>"
            ]
          },
          "metadata": {
            "needs_background": "light"
          }
        }
      ]
    },
    {
      "cell_type": "markdown",
      "metadata": {
        "id": "xKeEKu6LaYCq"
      },
      "source": [
        "Segmentations are extraxted:"
      ]
    },
    {
      "cell_type": "code",
      "metadata": {
        "id": "s4HWC8sjaYCq"
      },
      "source": [
        "thresh = threshold_otsu(el)\n",
        "bw = closing(el > thresh, square(3))\n",
        "\n",
        "cleared=clear_border(bw)\n",
        "\n",
        "label_image=label(cleared)\n",
        "\n",
        "image_label_overlay = label2rgb(label_image, image=image, bg_label=0)"
      ],
      "execution_count": 163,
      "outputs": []
    },
    {
      "cell_type": "markdown",
      "metadata": {
        "id": "dJQML3McaYCq"
      },
      "source": [
        "We keep only segmentations with area bigger than a threshold:"
      ]
    },
    {
      "cell_type": "code",
      "metadata": {
        "id": "QqPh6CPCaYCr"
      },
      "source": [
        "image_boxs=[]\n",
        "image_slices=[]\n",
        "for region in regionprops(label_image):\n",
        "    # take regions with large enough areas\n",
        "    if region.area >= 100:\n",
        "        # draw rectangle around segmented \n",
        "        minr, minc, maxr, maxc = region.bbox\n",
        "        image_boxs.append([minc,minr, maxc,maxr])\n",
        "        img=image[minr:maxr, minc:maxc]\n",
        "        img=cv2.cvtColor(img, cv2.COLOR_BGR2RGB)\n",
        "        image_slices.append(img)\n"
      ],
      "execution_count": 164,
      "outputs": []
    },
    {
      "cell_type": "markdown",
      "metadata": {
        "id": "Q8rjVJv7aYCr"
      },
      "source": [
        "We recreate sliced images from recognized objects to give the classifier:"
      ]
    },
    {
      "cell_type": "code",
      "metadata": {
        "id": "8evOZ74GaYCr"
      },
      "source": [
        "x_img=[]\n",
        "for image in image_slices:\n",
        "  \n",
        "  #some preprocessing commands:\n",
        "  image = cv2.fastNlMeansDenoisingColored(image, None, 10, 10, 7, 15)\n",
        "  image=cv2.cvtColor(image,cv2.COLOR_BGR2GRAY)\n",
        "  image = cv2.adaptiveThreshold(image,255,cv2.ADAPTIVE_THRESH_GAUSSIAN_C, cv2.THRESH_BINARY_INV,87,9)\n",
        "  image=cv2.resize(image,(im_h,im_w), interpolation=cv2.INTER_AREA)\n",
        "  \n",
        "  image=img_to_array(image)\n",
        "  x_img.append(image)\n",
        "  \n",
        "\n",
        "\n",
        "x_img=np.array(x_img,dtype='float')/255.0"
      ],
      "execution_count": 165,
      "outputs": []
    },
    {
      "cell_type": "markdown",
      "metadata": {
        "id": "bVl-omSeaYCr"
      },
      "source": [
        "We give Slices to Model:"
      ]
    },
    {
      "cell_type": "code",
      "metadata": {
        "id": "U1szlivPaYCs"
      },
      "source": [
        "labels=model.predict(x_img)"
      ],
      "execution_count": 166,
      "outputs": []
    },
    {
      "cell_type": "code",
      "metadata": {
        "id": "4Y4XL-RLaYCs"
      },
      "source": [
        "labels=labels.reshape(-1)\n",
        "labels=np.array(labels)"
      ],
      "execution_count": 167,
      "outputs": []
    },
    {
      "cell_type": "code",
      "metadata": {
        "id": "qibcvq14aYCs"
      },
      "source": [
        "dig_l=np.where(labels > .5, 1,0)"
      ],
      "execution_count": 168,
      "outputs": []
    },
    {
      "cell_type": "code",
      "metadata": {
        "colab": {
          "base_uri": "https://localhost:8080/"
        },
        "id": "riRB7LeDaYCs",
        "outputId": "6bb0d935-37d3-4130-f9c7-7bc561439f7f"
      },
      "source": [
        "dig_l"
      ],
      "execution_count": 169,
      "outputs": [
        {
          "output_type": "execute_result",
          "data": {
            "text/plain": [
              "array([0, 1, 1, 1, 1, 0, 0, 0, 0, 0, 0, 0, 0, 0, 0, 0, 0, 1, 0, 0, 0, 0,\n",
              "       1, 0, 1, 1, 1, 1, 1, 1])"
            ]
          },
          "metadata": {},
          "execution_count": 169
        }
      ]
    },
    {
      "cell_type": "code",
      "metadata": {
        "id": "8F5ViHY4aYCs"
      },
      "source": [
        ""
      ],
      "execution_count": 169,
      "outputs": []
    },
    {
      "cell_type": "markdown",
      "metadata": {
        "id": "vCrdLhn5aYCs"
      },
      "source": [
        "We gather the box of slices which are recognized as dijits by classifier:"
      ]
    },
    {
      "cell_type": "code",
      "metadata": {
        "id": "87DqYDwBaYCt"
      },
      "source": [
        "input_image_path='/content/12.jpg'\n",
        "image=cv2.imread(input_image_path)\n",
        "orig=image\n",
        "\n",
        "i=0\n",
        "\n",
        "for img in x_img:\n",
        " \n",
        "  # plt.figure(i)\n",
        "  # imgplot = plt.imshow(image)\n",
        "  # plt.show()\n",
        "  # print(dig_l[i])\n",
        "  if dig_l[i]==1:\n",
        "    \n",
        "    startX = image_boxs[i][0]\n",
        "    startY = image_boxs[i][1]\n",
        "    endX = image_boxs[i][2]\n",
        "    endY = image_boxs[i][3]\n",
        "    cv2.rectangle(orig, (startX, startY), (endX, endY), (0, 255, 0), 3)\n",
        "  i += 1"
      ],
      "execution_count": 170,
      "outputs": []
    },
    {
      "cell_type": "markdown",
      "metadata": {
        "id": "O1lBdRShmXtk"
      },
      "source": [
        "\n",
        "\n",
        "###Persian Digit segmentaion:"
      ]
    },
    {
      "cell_type": "code",
      "metadata": {
        "colab": {
          "base_uri": "https://localhost:8080/",
          "height": 286
        },
        "id": "vuOzZq9AaYCt",
        "outputId": "635a7f55-f68f-4d05-a6f0-9b1c61892c73"
      },
      "source": [
        "plt.imshow(cv2.cvtColor(orig, cv2.COLOR_BGR2RGB))"
      ],
      "execution_count": 171,
      "outputs": [
        {
          "output_type": "execute_result",
          "data": {
            "text/plain": [
              "<matplotlib.image.AxesImage at 0x7ff7ec13bb90>"
            ]
          },
          "metadata": {},
          "execution_count": 171
        },
        {
          "output_type": "display_data",
          "data": {
            "image/png": "[encoded data removed]",
            "text/plain": [
              "<Figure size 432x288 with 1 Axes>"
            ]
          },
          "metadata": {
            "needs_background": "light"
          }
        }
      ]
    },
    {
      "cell_type": "markdown",
      "metadata": {
        "id": "jIzcvHsBs5LB"
      },
      "source": [
        "Infact, the classifier consider faces as 0 number, that is why they are included. "
      ]
    },
    {
      "cell_type": "code",
      "metadata": {
        "colab": {
          "base_uri": "https://localhost:8080/"
        },
        "id": "Gck7VYMQaYCt",
        "outputId": "fb46c2b3-b97a-43d6-a259-f7176ecee06b"
      },
      "source": [
        "image_boxs[1][0]"
      ],
      "execution_count": null,
      "outputs": [
        {
          "data": {
            "text/plain": [
              "154"
            ]
          },
          "execution_count": 318,
          "metadata": {},
          "output_type": "execute_result"
        }
      ]
    },
    {
      "cell_type": "markdown",
      "metadata": {
        "id": "8aKRf-buaYCt"
      },
      "source": [
        "\n",
        "\n",
        "###All the segmentations including non dijits:"
      ]
    },
    {
      "cell_type": "code",
      "metadata": {
        "colab": {
          "base_uri": "https://localhost:8080/",
          "height": 286
        },
        "id": "FmR085PqaYCt",
        "outputId": "832990c1-6067-4991-9fe4-4c7e3bec8cfc"
      },
      "source": [
        "i=0\n",
        "\n",
        "for img in x_img:\n",
        " \n",
        "  # plt.figure(i)\n",
        "  # imgplot = plt.imshow(image)\n",
        "  # plt.show()\n",
        "  # print(dig_l[i])\n",
        "  \n",
        "    \n",
        "  startX = image_boxs[i][0]\n",
        "  startY = image_boxs[i][1]\n",
        "  endX = image_boxs[i][2]\n",
        "  endY = image_boxs[i][3]\n",
        "  cv2.rectangle(orig, (startX, startY), (endX, endY), (0, 255, 0), 3)\n",
        "  i += 1\n",
        "\n",
        "plt.imshow(cv2.cvtColor(orig, cv2.COLOR_BGR2RGB))"
      ],
      "execution_count": 172,
      "outputs": [
        {
          "output_type": "execute_result",
          "data": {
            "text/plain": [
              "<matplotlib.image.AxesImage at 0x7ff7ec106710>"
            ]
          },
          "metadata": {},
          "execution_count": 172
        },
        {
          "output_type": "display_data",
          "data": {
            "image/png": "[encoded data removed]",
            "text/plain": [
              "<Figure size 432x288 with 1 Axes>"
            ]
          },
          "metadata": {
            "needs_background": "light"
          }
        }
      ]
    },
    {
      "cell_type": "code",
      "metadata": {
        "id": "n-fVsm0xaYCu"
      },
      "source": [
        ""
      ],
      "execution_count": null,
      "outputs": []
    },
    {
      "cell_type": "code",
      "metadata": {
        "id": "8t8-pyXatd-5"
      },
      "source": [
        ""
      ],
      "execution_count": null,
      "outputs": []
    }
  ]
}